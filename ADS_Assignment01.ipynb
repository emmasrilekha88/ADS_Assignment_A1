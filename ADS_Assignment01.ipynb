{
 "cells": [
  {
   "cell_type": "code",
   "execution_count": null,
   "id": "aa1c656c",
   "metadata": {},
   "outputs": [],
   "source": []
  },
  {
   "cell_type": "code",
   "execution_count": 321,
   "id": "b54e71ce",
   "metadata": {},
   "outputs": [],
   "source": [
    "#importing the python libraries required for given Question\n",
    "import pandas as pd\n",
    "import matplotlib.pyplot as plt\n",
    "import seaborn as sns"
   ]
  },
  {
   "cell_type": "code",
   "execution_count": 322,
   "id": "dec7413e",
   "metadata": {},
   "outputs": [],
   "source": [
    "# Reading the Excel file\n",
    "original_dataset = pd.read_excel(r'C:\\Users\\dell\\Downloads\\crop_yield_prediction\\crop yield data sheet.xlsx')"
   ]
  },
  {
   "cell_type": "code",
   "execution_count": 323,
   "id": "94514101",
   "metadata": {
    "scrolled": true
   },
   "outputs": [
    {
     "data": {
      "text/html": [
       "<div>\n",
       "<style scoped>\n",
       "    .dataframe tbody tr th:only-of-type {\n",
       "        vertical-align: middle;\n",
       "    }\n",
       "\n",
       "    .dataframe tbody tr th {\n",
       "        vertical-align: top;\n",
       "    }\n",
       "\n",
       "    .dataframe thead th {\n",
       "        text-align: right;\n",
       "    }\n",
       "</style>\n",
       "<table border=\"1\" class=\"dataframe\">\n",
       "  <thead>\n",
       "    <tr style=\"text-align: right;\">\n",
       "      <th></th>\n",
       "      <th>Rain Fall (mm)</th>\n",
       "      <th>Fertilizer</th>\n",
       "      <th>Temperatue</th>\n",
       "      <th>Nitrogen (N)</th>\n",
       "      <th>Phosphorus (P)</th>\n",
       "      <th>Potassium (K)</th>\n",
       "      <th>Yeild (Q/acre)</th>\n",
       "    </tr>\n",
       "  </thead>\n",
       "  <tbody>\n",
       "    <tr>\n",
       "      <th>0</th>\n",
       "      <td>1230.0</td>\n",
       "      <td>80.0</td>\n",
       "      <td>28</td>\n",
       "      <td>80.0</td>\n",
       "      <td>24.0</td>\n",
       "      <td>20.0</td>\n",
       "      <td>12.0</td>\n",
       "    </tr>\n",
       "    <tr>\n",
       "      <th>1</th>\n",
       "      <td>480.0</td>\n",
       "      <td>60.0</td>\n",
       "      <td>36</td>\n",
       "      <td>70.0</td>\n",
       "      <td>20.0</td>\n",
       "      <td>18.0</td>\n",
       "      <td>8.0</td>\n",
       "    </tr>\n",
       "    <tr>\n",
       "      <th>2</th>\n",
       "      <td>1250.0</td>\n",
       "      <td>75.0</td>\n",
       "      <td>29</td>\n",
       "      <td>78.0</td>\n",
       "      <td>22.0</td>\n",
       "      <td>19.0</td>\n",
       "      <td>11.0</td>\n",
       "    </tr>\n",
       "    <tr>\n",
       "      <th>3</th>\n",
       "      <td>450.0</td>\n",
       "      <td>65.0</td>\n",
       "      <td>35</td>\n",
       "      <td>70.0</td>\n",
       "      <td>19.0</td>\n",
       "      <td>18.0</td>\n",
       "      <td>9.0</td>\n",
       "    </tr>\n",
       "    <tr>\n",
       "      <th>4</th>\n",
       "      <td>1200.0</td>\n",
       "      <td>80.0</td>\n",
       "      <td>27</td>\n",
       "      <td>79.0</td>\n",
       "      <td>22.0</td>\n",
       "      <td>19.0</td>\n",
       "      <td>11.0</td>\n",
       "    </tr>\n",
       "  </tbody>\n",
       "</table>\n",
       "</div>"
      ],
      "text/plain": [
       "   Rain Fall (mm)  Fertilizer Temperatue  Nitrogen (N)  Phosphorus (P)  \\\n",
       "0          1230.0        80.0         28          80.0            24.0   \n",
       "1           480.0        60.0         36          70.0            20.0   \n",
       "2          1250.0        75.0         29          78.0            22.0   \n",
       "3           450.0        65.0         35          70.0            19.0   \n",
       "4          1200.0        80.0         27          79.0            22.0   \n",
       "\n",
       "   Potassium (K)  Yeild (Q/acre)  \n",
       "0           20.0            12.0  \n",
       "1           18.0             8.0  \n",
       "2           19.0            11.0  \n",
       "3           18.0             9.0  \n",
       "4           19.0            11.0  "
      ]
     },
     "execution_count": 323,
     "metadata": {},
     "output_type": "execute_result"
    }
   ],
   "source": [
    "#Displaying the first few rows of the DataFrame\n",
    "original_dataset.head()"
   ]
  },
  {
   "cell_type": "code",
   "execution_count": 324,
   "id": "8ac3260e",
   "metadata": {},
   "outputs": [
    {
     "data": {
      "text/html": [
       "<div>\n",
       "<style scoped>\n",
       "    .dataframe tbody tr th:only-of-type {\n",
       "        vertical-align: middle;\n",
       "    }\n",
       "\n",
       "    .dataframe tbody tr th {\n",
       "        vertical-align: top;\n",
       "    }\n",
       "\n",
       "    .dataframe thead th {\n",
       "        text-align: right;\n",
       "    }\n",
       "</style>\n",
       "<table border=\"1\" class=\"dataframe\">\n",
       "  <thead>\n",
       "    <tr style=\"text-align: right;\">\n",
       "      <th></th>\n",
       "      <th>Rain Fall (mm)</th>\n",
       "      <th>Fertilizer</th>\n",
       "      <th>Temperatue</th>\n",
       "      <th>Nitrogen (N)</th>\n",
       "      <th>Phosphorus (P)</th>\n",
       "      <th>Potassium (K)</th>\n",
       "      <th>Yeild (Q/acre)</th>\n",
       "    </tr>\n",
       "  </thead>\n",
       "  <tbody>\n",
       "    <tr>\n",
       "      <th>104</th>\n",
       "      <td>NaN</td>\n",
       "      <td>NaN</td>\n",
       "      <td>NaN</td>\n",
       "      <td>NaN</td>\n",
       "      <td>NaN</td>\n",
       "      <td>NaN</td>\n",
       "      <td>NaN</td>\n",
       "    </tr>\n",
       "    <tr>\n",
       "      <th>105</th>\n",
       "      <td>NaN</td>\n",
       "      <td>NaN</td>\n",
       "      <td>NaN</td>\n",
       "      <td>NaN</td>\n",
       "      <td>NaN</td>\n",
       "      <td>NaN</td>\n",
       "      <td>NaN</td>\n",
       "    </tr>\n",
       "    <tr>\n",
       "      <th>106</th>\n",
       "      <td>NaN</td>\n",
       "      <td>NaN</td>\n",
       "      <td>NaN</td>\n",
       "      <td>NaN</td>\n",
       "      <td>NaN</td>\n",
       "      <td>NaN</td>\n",
       "      <td>NaN</td>\n",
       "    </tr>\n",
       "    <tr>\n",
       "      <th>107</th>\n",
       "      <td>NaN</td>\n",
       "      <td>NaN</td>\n",
       "      <td>NaN</td>\n",
       "      <td>NaN</td>\n",
       "      <td>NaN</td>\n",
       "      <td>NaN</td>\n",
       "      <td>NaN</td>\n",
       "    </tr>\n",
       "    <tr>\n",
       "      <th>108</th>\n",
       "      <td>NaN</td>\n",
       "      <td>NaN</td>\n",
       "      <td>:</td>\n",
       "      <td>NaN</td>\n",
       "      <td>NaN</td>\n",
       "      <td>NaN</td>\n",
       "      <td>NaN</td>\n",
       "    </tr>\n",
       "  </tbody>\n",
       "</table>\n",
       "</div>"
      ],
      "text/plain": [
       "     Rain Fall (mm)  Fertilizer Temperatue  Nitrogen (N)  Phosphorus (P)  \\\n",
       "104             NaN         NaN        NaN           NaN             NaN   \n",
       "105             NaN         NaN        NaN           NaN             NaN   \n",
       "106             NaN         NaN        NaN           NaN             NaN   \n",
       "107             NaN         NaN        NaN           NaN             NaN   \n",
       "108             NaN         NaN          :           NaN             NaN   \n",
       "\n",
       "     Potassium (K)  Yeild (Q/acre)  \n",
       "104            NaN             NaN  \n",
       "105            NaN             NaN  \n",
       "106            NaN             NaN  \n",
       "107            NaN             NaN  \n",
       "108            NaN             NaN  "
      ]
     },
     "execution_count": 324,
     "metadata": {},
     "output_type": "execute_result"
    }
   ],
   "source": [
    "#Displaying the last five rows of choosen dataset\n",
    "original_dataset.tail()"
   ]
  },
  {
   "cell_type": "code",
   "execution_count": 325,
   "id": "a6a77a65",
   "metadata": {},
   "outputs": [
    {
     "data": {
      "text/html": [
       "<div>\n",
       "<style scoped>\n",
       "    .dataframe tbody tr th:only-of-type {\n",
       "        vertical-align: middle;\n",
       "    }\n",
       "\n",
       "    .dataframe tbody tr th {\n",
       "        vertical-align: top;\n",
       "    }\n",
       "\n",
       "    .dataframe thead th {\n",
       "        text-align: right;\n",
       "    }\n",
       "</style>\n",
       "<table border=\"1\" class=\"dataframe\">\n",
       "  <thead>\n",
       "    <tr style=\"text-align: right;\">\n",
       "      <th></th>\n",
       "      <th>Rain Fall (mm)</th>\n",
       "      <th>Fertilizer</th>\n",
       "      <th>Temperatue</th>\n",
       "      <th>Nitrogen (N)</th>\n",
       "      <th>Phosphorus (P)</th>\n",
       "      <th>Potassium (K)</th>\n",
       "      <th>Yeild (Q/acre)</th>\n",
       "    </tr>\n",
       "  </thead>\n",
       "  <tbody>\n",
       "    <tr>\n",
       "      <th>0</th>\n",
       "      <td>1230.0</td>\n",
       "      <td>80.0</td>\n",
       "      <td>28</td>\n",
       "      <td>80.0</td>\n",
       "      <td>24.0</td>\n",
       "      <td>20.0</td>\n",
       "      <td>12.0</td>\n",
       "    </tr>\n",
       "    <tr>\n",
       "      <th>1</th>\n",
       "      <td>480.0</td>\n",
       "      <td>60.0</td>\n",
       "      <td>36</td>\n",
       "      <td>70.0</td>\n",
       "      <td>20.0</td>\n",
       "      <td>18.0</td>\n",
       "      <td>8.0</td>\n",
       "    </tr>\n",
       "    <tr>\n",
       "      <th>2</th>\n",
       "      <td>1250.0</td>\n",
       "      <td>75.0</td>\n",
       "      <td>29</td>\n",
       "      <td>78.0</td>\n",
       "      <td>22.0</td>\n",
       "      <td>19.0</td>\n",
       "      <td>11.0</td>\n",
       "    </tr>\n",
       "    <tr>\n",
       "      <th>3</th>\n",
       "      <td>450.0</td>\n",
       "      <td>65.0</td>\n",
       "      <td>35</td>\n",
       "      <td>70.0</td>\n",
       "      <td>19.0</td>\n",
       "      <td>18.0</td>\n",
       "      <td>9.0</td>\n",
       "    </tr>\n",
       "    <tr>\n",
       "      <th>4</th>\n",
       "      <td>1200.0</td>\n",
       "      <td>80.0</td>\n",
       "      <td>27</td>\n",
       "      <td>79.0</td>\n",
       "      <td>22.0</td>\n",
       "      <td>19.0</td>\n",
       "      <td>11.0</td>\n",
       "    </tr>\n",
       "    <tr>\n",
       "      <th>...</th>\n",
       "      <td>...</td>\n",
       "      <td>...</td>\n",
       "      <td>...</td>\n",
       "      <td>...</td>\n",
       "      <td>...</td>\n",
       "      <td>...</td>\n",
       "      <td>...</td>\n",
       "    </tr>\n",
       "    <tr>\n",
       "      <th>104</th>\n",
       "      <td>NaN</td>\n",
       "      <td>NaN</td>\n",
       "      <td>NaN</td>\n",
       "      <td>NaN</td>\n",
       "      <td>NaN</td>\n",
       "      <td>NaN</td>\n",
       "      <td>NaN</td>\n",
       "    </tr>\n",
       "    <tr>\n",
       "      <th>105</th>\n",
       "      <td>NaN</td>\n",
       "      <td>NaN</td>\n",
       "      <td>NaN</td>\n",
       "      <td>NaN</td>\n",
       "      <td>NaN</td>\n",
       "      <td>NaN</td>\n",
       "      <td>NaN</td>\n",
       "    </tr>\n",
       "    <tr>\n",
       "      <th>106</th>\n",
       "      <td>NaN</td>\n",
       "      <td>NaN</td>\n",
       "      <td>NaN</td>\n",
       "      <td>NaN</td>\n",
       "      <td>NaN</td>\n",
       "      <td>NaN</td>\n",
       "      <td>NaN</td>\n",
       "    </tr>\n",
       "    <tr>\n",
       "      <th>107</th>\n",
       "      <td>NaN</td>\n",
       "      <td>NaN</td>\n",
       "      <td>NaN</td>\n",
       "      <td>NaN</td>\n",
       "      <td>NaN</td>\n",
       "      <td>NaN</td>\n",
       "      <td>NaN</td>\n",
       "    </tr>\n",
       "    <tr>\n",
       "      <th>108</th>\n",
       "      <td>NaN</td>\n",
       "      <td>NaN</td>\n",
       "      <td>:</td>\n",
       "      <td>NaN</td>\n",
       "      <td>NaN</td>\n",
       "      <td>NaN</td>\n",
       "      <td>NaN</td>\n",
       "    </tr>\n",
       "  </tbody>\n",
       "</table>\n",
       "<p>109 rows × 7 columns</p>\n",
       "</div>"
      ],
      "text/plain": [
       "     Rain Fall (mm)  Fertilizer Temperatue  Nitrogen (N)  Phosphorus (P)  \\\n",
       "0            1230.0        80.0         28          80.0            24.0   \n",
       "1             480.0        60.0         36          70.0            20.0   \n",
       "2            1250.0        75.0         29          78.0            22.0   \n",
       "3             450.0        65.0         35          70.0            19.0   \n",
       "4            1200.0        80.0         27          79.0            22.0   \n",
       "..              ...         ...        ...           ...             ...   \n",
       "104             NaN         NaN        NaN           NaN             NaN   \n",
       "105             NaN         NaN        NaN           NaN             NaN   \n",
       "106             NaN         NaN        NaN           NaN             NaN   \n",
       "107             NaN         NaN        NaN           NaN             NaN   \n",
       "108             NaN         NaN          :           NaN             NaN   \n",
       "\n",
       "     Potassium (K)  Yeild (Q/acre)  \n",
       "0             20.0            12.0  \n",
       "1             18.0             8.0  \n",
       "2             19.0            11.0  \n",
       "3             18.0             9.0  \n",
       "4             19.0            11.0  \n",
       "..             ...             ...  \n",
       "104            NaN             NaN  \n",
       "105            NaN             NaN  \n",
       "106            NaN             NaN  \n",
       "107            NaN             NaN  \n",
       "108            NaN             NaN  \n",
       "\n",
       "[109 rows x 7 columns]"
      ]
     },
     "execution_count": 325,
     "metadata": {},
     "output_type": "execute_result"
    }
   ],
   "source": [
    "#printing the original dataset in which some columns does not contains values and non_numbered values\n",
    "original_dataset"
   ]
  },
  {
   "cell_type": "raw",
   "id": "3d82416e",
   "metadata": {},
   "source": [
    "\n"
   ]
  },
  {
   "cell_type": "code",
   "execution_count": 326,
   "id": "c260560c",
   "metadata": {},
   "outputs": [
    {
     "data": {
      "text/plain": [
       "Rain Fall (mm)    10\n",
       "Fertilizer        10\n",
       "Temperatue         9\n",
       "Nitrogen (N)      10\n",
       "Phosphorus (P)    10\n",
       "Potassium (K)     10\n",
       "Yeild (Q/acre)    10\n",
       "dtype: int64"
      ]
     },
     "execution_count": 326,
     "metadata": {},
     "output_type": "execute_result"
    }
   ],
   "source": [
    "#Data handling and cleaning\n",
    "#Here we are checking the each column of dataset and filling the missing values with zero or median or mode value and then counting the number of missing values using sum()  function\n",
    "#When applied to a DataFrame, isna() returns a DataFrame of the same shape as the input DataFrame, where each element is a\n",
    "#boolean value indicating whether that element is missing or null.\n",
    "#The returned DataFrame has True for missing or null values and False for non-missing or non-null values.\n",
    "original_dataset.isna().sum()"
   ]
  },
  {
   "cell_type": "code",
   "execution_count": 327,
   "id": "111fe947",
   "metadata": {},
   "outputs": [],
   "source": [
    "#the above output shows that total missing values of each Column in a dataset\n",
    "original_dataset[\"Rain Fall (mm)\"].fillna(original_dataset[\"Rain Fall (mm)\"].median(),inplace=True)"
   ]
  },
  {
   "cell_type": "code",
   "execution_count": 328,
   "id": "36796ef2",
   "metadata": {},
   "outputs": [
    {
     "data": {
      "text/plain": [
       "0"
      ]
     },
     "execution_count": 328,
     "metadata": {},
     "output_type": "execute_result"
    }
   ],
   "source": [
    "original_dataset[\"Rain Fall (mm)\"].isna().sum()"
   ]
  },
  {
   "cell_type": "code",
   "execution_count": 329,
   "id": "7a1c4dfd",
   "metadata": {},
   "outputs": [],
   "source": [
    "original_dataset[\"Fertilizer\"].fillna(original_dataset[\"Fertilizer\"].median(),inplace=True)"
   ]
  },
  {
   "cell_type": "code",
   "execution_count": 330,
   "id": "58803c80",
   "metadata": {},
   "outputs": [],
   "source": [
    "original_dataset[\"Nitrogen (N)\"].fillna(original_dataset[\"Nitrogen (N)\"].median(),inplace=True)"
   ]
  },
  {
   "cell_type": "code",
   "execution_count": 331,
   "id": "7a679b93",
   "metadata": {},
   "outputs": [],
   "source": [
    "original_dataset[\"Phosphorus (P)\"].fillna(original_dataset[\"Phosphorus (P)\"].median(),inplace=True)"
   ]
  },
  {
   "cell_type": "code",
   "execution_count": 332,
   "id": "55946c08",
   "metadata": {},
   "outputs": [],
   "source": [
    "original_dataset[\"Potassium (K)\"].fillna(original_dataset[\"Potassium (K)\"].median(),inplace=True)"
   ]
  },
  {
   "cell_type": "code",
   "execution_count": 333,
   "id": "e9e0d254",
   "metadata": {},
   "outputs": [],
   "source": [
    "original_dataset[\"Yeild (Q/acre)\"].fillna(original_dataset[\"Yeild (Q/acre)\"].median(),inplace=True)"
   ]
  },
  {
   "cell_type": "code",
   "execution_count": 334,
   "id": "11711b4d",
   "metadata": {},
   "outputs": [],
   "source": [
    "#New Dataset \n",
    "new_dataset = original_dataset.isna().sum()"
   ]
  },
  {
   "cell_type": "code",
   "execution_count": 335,
   "id": "c2776761",
   "metadata": {},
   "outputs": [
    {
     "data": {
      "text/plain": [
       "0"
      ]
     },
     "execution_count": 335,
     "metadata": {},
     "output_type": "execute_result"
    }
   ],
   "source": [
    "new_dataset.isna().sum()"
   ]
  },
  {
   "cell_type": "code",
   "execution_count": 336,
   "id": "4130262f",
   "metadata": {},
   "outputs": [],
   "source": [
    "#The above ouput shows there is no missing values in our dataset\n",
    "df.fillna(method='ffill', inplace=True)"
   ]
  },
  {
   "cell_type": "code",
   "execution_count": 337,
   "id": "01610888",
   "metadata": {},
   "outputs": [
    {
     "name": "stdout",
     "output_type": "stream",
     "text": [
      "<class 'pandas.core.frame.DataFrame'>\n",
      "RangeIndex: 109 entries, 0 to 108\n",
      "Data columns (total 7 columns):\n",
      " #   Column          Non-Null Count  Dtype  \n",
      "---  ------          --------------  -----  \n",
      " 0   Rain Fall (mm)  109 non-null    float64\n",
      " 1   Fertilizer      109 non-null    float64\n",
      " 2   Temperatue      109 non-null    object \n",
      " 3   Nitrogen (N)    109 non-null    float64\n",
      " 4   Phosphorus (P)  109 non-null    float64\n",
      " 5   Potassium (K)   109 non-null    float64\n",
      " 6   Yeild (Q/acre)  109 non-null    float64\n",
      "dtypes: float64(6), object(1)\n",
      "memory usage: 6.1+ KB\n",
      "None\n"
     ]
    }
   ],
   "source": [
    "print(df.info())\n"
   ]
  },
  {
   "cell_type": "code",
   "execution_count": 338,
   "id": "a2f0b1ff",
   "metadata": {},
   "outputs": [
    {
     "data": {
      "text/html": [
       "<div>\n",
       "<style scoped>\n",
       "    .dataframe tbody tr th:only-of-type {\n",
       "        vertical-align: middle;\n",
       "    }\n",
       "\n",
       "    .dataframe tbody tr th {\n",
       "        vertical-align: top;\n",
       "    }\n",
       "\n",
       "    .dataframe thead th {\n",
       "        text-align: right;\n",
       "    }\n",
       "</style>\n",
       "<table border=\"1\" class=\"dataframe\">\n",
       "  <thead>\n",
       "    <tr style=\"text-align: right;\">\n",
       "      <th></th>\n",
       "      <th>Rain Fall (mm)</th>\n",
       "      <th>Fertilizer</th>\n",
       "      <th>Nitrogen (N)</th>\n",
       "      <th>Phosphorus (P)</th>\n",
       "      <th>Potassium (K)</th>\n",
       "      <th>Yeild (Q/acre)</th>\n",
       "    </tr>\n",
       "  </thead>\n",
       "  <tbody>\n",
       "    <tr>\n",
       "      <th>count</th>\n",
       "      <td>109.000000</td>\n",
       "      <td>109.000000</td>\n",
       "      <td>109.000000</td>\n",
       "      <td>109.000000</td>\n",
       "      <td>109.000000</td>\n",
       "      <td>109.000000</td>\n",
       "    </tr>\n",
       "    <tr>\n",
       "      <th>mean</th>\n",
       "      <td>877.339450</td>\n",
       "      <td>68.009174</td>\n",
       "      <td>70.761468</td>\n",
       "      <td>21.119266</td>\n",
       "      <td>18.146789</td>\n",
       "      <td>9.045872</td>\n",
       "    </tr>\n",
       "    <tr>\n",
       "      <th>std</th>\n",
       "      <td>390.890229</td>\n",
       "      <td>9.573783</td>\n",
       "      <td>6.360904</td>\n",
       "      <td>1.859534</td>\n",
       "      <td>1.752383</td>\n",
       "      <td>1.872735</td>\n",
       "    </tr>\n",
       "    <tr>\n",
       "      <th>min</th>\n",
       "      <td>400.000000</td>\n",
       "      <td>50.000000</td>\n",
       "      <td>59.000000</td>\n",
       "      <td>18.000000</td>\n",
       "      <td>15.000000</td>\n",
       "      <td>5.500000</td>\n",
       "    </tr>\n",
       "    <tr>\n",
       "      <th>25%</th>\n",
       "      <td>450.000000</td>\n",
       "      <td>60.000000</td>\n",
       "      <td>65.000000</td>\n",
       "      <td>20.000000</td>\n",
       "      <td>16.000000</td>\n",
       "      <td>7.000000</td>\n",
       "    </tr>\n",
       "    <tr>\n",
       "      <th>50%</th>\n",
       "      <td>1150.000000</td>\n",
       "      <td>70.000000</td>\n",
       "      <td>71.000000</td>\n",
       "      <td>21.000000</td>\n",
       "      <td>19.000000</td>\n",
       "      <td>9.000000</td>\n",
       "    </tr>\n",
       "    <tr>\n",
       "      <th>75%</th>\n",
       "      <td>1225.000000</td>\n",
       "      <td>77.000000</td>\n",
       "      <td>76.000000</td>\n",
       "      <td>23.000000</td>\n",
       "      <td>19.000000</td>\n",
       "      <td>11.000000</td>\n",
       "    </tr>\n",
       "    <tr>\n",
       "      <th>max</th>\n",
       "      <td>1300.000000</td>\n",
       "      <td>80.000000</td>\n",
       "      <td>80.000000</td>\n",
       "      <td>25.000000</td>\n",
       "      <td>22.000000</td>\n",
       "      <td>12.000000</td>\n",
       "    </tr>\n",
       "  </tbody>\n",
       "</table>\n",
       "</div>"
      ],
      "text/plain": [
       "       Rain Fall (mm)  Fertilizer  Nitrogen (N)  Phosphorus (P)  \\\n",
       "count      109.000000  109.000000    109.000000      109.000000   \n",
       "mean       877.339450   68.009174     70.761468       21.119266   \n",
       "std        390.890229    9.573783      6.360904        1.859534   \n",
       "min        400.000000   50.000000     59.000000       18.000000   \n",
       "25%        450.000000   60.000000     65.000000       20.000000   \n",
       "50%       1150.000000   70.000000     71.000000       21.000000   \n",
       "75%       1225.000000   77.000000     76.000000       23.000000   \n",
       "max       1300.000000   80.000000     80.000000       25.000000   \n",
       "\n",
       "       Potassium (K)  Yeild (Q/acre)  \n",
       "count     109.000000      109.000000  \n",
       "mean       18.146789        9.045872  \n",
       "std         1.752383        1.872735  \n",
       "min        15.000000        5.500000  \n",
       "25%        16.000000        7.000000  \n",
       "50%        19.000000        9.000000  \n",
       "75%        19.000000       11.000000  \n",
       "max        22.000000       12.000000  "
      ]
     },
     "execution_count": 338,
     "metadata": {},
     "output_type": "execute_result"
    }
   ],
   "source": [
    "df.describe()"
   ]
  },
  {
   "cell_type": "code",
   "execution_count": 339,
   "id": "f9197251",
   "metadata": {},
   "outputs": [
    {
     "data": {
      "image/png": "[encoded data removed]",
      "text/plain": [
       "<Figure size 640x480 with 1 Axes>"
      ]
     },
     "metadata": {},
     "output_type": "display_data"
    }
   ],
   "source": [
    "#DATA VISUALIZATION\n",
    "#2. CATEGORICAL GRAPHS: #Plotting the histogram for a specified column in the dataframe\n",
    "#Defining a function which takes parameters as df: Dataframe which has the data ,column: Name of the column to plot    \n",
    "#bins: Number of bins for the histogram (default is 20)\n",
    "#color: Color of the bars (default is 'orange')\n",
    "#edgecolor: Color of the edges of the bars (default is 'black')\n",
    "def plot_histogram(df, column, bins=20, color='orange', edgecolor='black'):\n",
    "    \n",
    "    plt.hist(df[column], bins=bins, color=color, edgecolor=edgecolor)\n",
    "    plt.title(f'Distribution of {column}')\n",
    "    plt.xlabel(column)\n",
    "    plt.ylabel('Frequency')\n",
    "    plt.show()\n",
    "\n",
    "# Calling the function by function call\n",
    "plot_histogram(df, 'Rain Fall (mm)')\n"
   ]
  },
  {
   "cell_type": "code",
   "execution_count": 340,
   "id": "c56dad88",
   "metadata": {},
   "outputs": [
    {
     "data": {
      "image/png": "[encoded data removed]",
      "text/plain": [
       "<Figure size 640x480 with 1 Axes>"
      ]
     },
     "metadata": {},
     "output_type": "display_data"
    }
   ],
   "source": [
    "#2.RELATIONAL GRAPHS:Scatter plots can be used to examine the relationship between crop yield and rainfall,\n",
    "#fertilizer usage, and temperature. \n",
    "# Print out the column names\n",
    "#print(\"Column names:\")\n",
    "#print(new_dataset.column)\n",
    "\n",
    "def plot_scatter(df, x_column, y_column, color='green'):\n",
    "    plt.scatter(df[x_column], df[y_column], color=color)\n",
    "    plt.title(f'{x_column} vs {y_column}')\n",
    "    plt.xlabel(x_column)\n",
    "    plt.ylabel(y_column)\n",
    "    plt.show()\n",
    "\n",
    "# calling the function after defining it\n",
    "plot_scatter(df, 'Rain Fall (mm)', 'Yeild (Q/acre)')\n",
    "\n",
    "\n"
   ]
  },
  {
   "cell_type": "code",
   "execution_count": 341,
   "id": "4cc2b202",
   "metadata": {},
   "outputs": [],
   "source": [
    "#the above graph shows that \"As the rainfall increases ,the crop yield increases in Quintals per Acre\""
   ]
  },
  {
   "cell_type": "code",
   "execution_count": null,
   "id": "e98bf714",
   "metadata": {},
   "outputs": [],
   "source": []
  },
  {
   "cell_type": "code",
   "execution_count": 342,
   "id": "19b385bf",
   "metadata": {},
   "outputs": [
    {
     "data": {
      "image/png": "[encoded data removed]",
      "text/plain": [
       "<Figure size 640x480 with 1 Axes>"
      ]
     },
     "metadata": {},
     "output_type": "display_data"
    }
   ],
   "source": [
    "#3.STATISTICAL GRAPHS:\n",
    "def plot_violin(df, x_column, title, x_label, color='yellow'):\n",
    "    \"\"\"\n",
    "    Plot a violin plot for a specified column in the DataFrame.\n",
    "\n",
    "    Parameters:\n",
    "    - df: DataFrame containing the data\n",
    "    - x_column: Name of the column to plot\n",
    "    - title: Title of the plot\n",
    "    - x_label: Label for the x-axis\n",
    "    - color: Color of the plot (default is 'skyblue')\n",
    "    \"\"\"\n",
    "    sns.violinplot(x=x_column, data=df, color=color)\n",
    "    plt.title(title)\n",
    "    plt.xlabel(x_label)\n",
    "    plt.show()\n",
    "\n",
    "# calling the function\n",
    "plot_violin(df, 'Rain Fall (mm)', 'Distribution of Rain Fall', 'Rain Fall (mm)')\n",
    "\n",
    "\n",
    "\n",
    "\n"
   ]
  },
  {
   "cell_type": "code",
   "execution_count": null,
   "id": "0d8dc2f1",
   "metadata": {},
   "outputs": [],
   "source": []
  },
  {
   "cell_type": "code",
   "execution_count": 343,
   "id": "c12624f7",
   "metadata": {},
   "outputs": [
    {
     "name": "stdout",
     "output_type": "stream",
     "text": [
      "Non-numeric values in 'Rain Fall (mm)' column: [1230.  480. 1250.  450. 1200.  500. 1275.  425.  400. 1280.  415. 1225.\n",
      " 1300.  410. 1150.  405.  475.  440. 1175.  460.  445. 1220.  430. 1245.\n",
      "  455.]\n",
      "float64\n",
      "0\n"
     ]
    }
   ],
   "source": [
    "# Identify non-numeric values in the 'Rain Fall (mm)' column\n",
    "non_numeric_values = df[~df['Rain Fall (mm)'].astype(str).str.isnumeric()]['Rain Fall (mm)'].unique()\n",
    "print(\"Non-numeric values in 'Rain Fall (mm)' column:\", non_numeric_values)\n",
    "\n",
    "# Replace non-numeric values with NaN\n",
    "df['Rain Fall (mm)'] = pd.to_numeric(df['Rain Fall (mm)'], errors='coerce')\n",
    "\n",
    "# Check if the conversion was successful\n",
    "print(df['Rain Fall (mm)'].dtype)  # Check data type after conversion\n",
    "print(df['Rain Fall (mm)'].isnull().sum())  # Check number of NaN values"
   ]
  },
  {
   "cell_type": "code",
   "execution_count": 344,
   "id": "00107762",
   "metadata": {},
   "outputs": [
    {
     "name": "stdout",
     "output_type": "stream",
     "text": [
      "After removing rows with non-numeric values:\n",
      "     Rain Fall (mm)  Fertilizer Temperatue  Nitrogen (N)  Phosphorus (P)  \\\n",
      "0            1230.0        80.0         28          80.0            24.0   \n",
      "1             480.0        60.0         36          70.0            20.0   \n",
      "2            1250.0        75.0         29          78.0            22.0   \n",
      "3             450.0        65.0         35          70.0            19.0   \n",
      "4            1200.0        80.0         27          79.0            22.0   \n",
      "..              ...         ...        ...           ...             ...   \n",
      "104          1150.0        70.0         28          71.0            21.0   \n",
      "105          1150.0        70.0         28          71.0            21.0   \n",
      "106          1150.0        70.0         28          71.0            21.0   \n",
      "107          1150.0        70.0         28          71.0            21.0   \n",
      "108          1150.0        70.0          :          71.0            21.0   \n",
      "\n",
      "     Potassium (K)  Yeild (Q/acre)  \n",
      "0             20.0            12.0  \n",
      "1             18.0             8.0  \n",
      "2             19.0            11.0  \n",
      "3             18.0             9.0  \n",
      "4             19.0            11.0  \n",
      "..             ...             ...  \n",
      "104           19.0             9.0  \n",
      "105           19.0             9.0  \n",
      "106           19.0             9.0  \n",
      "107           19.0             9.0  \n",
      "108           19.0             9.0  \n",
      "\n",
      "[109 rows x 7 columns]\n",
      "\n",
      "After replacing non-numeric values with NaN:\n",
      "     Rain Fall (mm)  Fertilizer Temperatue  Nitrogen (N)  Phosphorus (P)  \\\n",
      "0            1230.0        80.0         28          80.0            24.0   \n",
      "1             480.0        60.0         36          70.0            20.0   \n",
      "2            1250.0        75.0         29          78.0            22.0   \n",
      "3             450.0        65.0         35          70.0            19.0   \n",
      "4            1200.0        80.0         27          79.0            22.0   \n",
      "..              ...         ...        ...           ...             ...   \n",
      "104          1150.0        70.0         28          71.0            21.0   \n",
      "105          1150.0        70.0         28          71.0            21.0   \n",
      "106          1150.0        70.0         28          71.0            21.0   \n",
      "107          1150.0        70.0         28          71.0            21.0   \n",
      "108          1150.0        70.0          :          71.0            21.0   \n",
      "\n",
      "     Potassium (K)  Yeild (Q/acre)  \n",
      "0             20.0            12.0  \n",
      "1             18.0             8.0  \n",
      "2             19.0            11.0  \n",
      "3             18.0             9.0  \n",
      "4             19.0            11.0  \n",
      "..             ...             ...  \n",
      "104           19.0             9.0  \n",
      "105           19.0             9.0  \n",
      "106           19.0             9.0  \n",
      "107           19.0             9.0  \n",
      "108           19.0             9.0  \n",
      "\n",
      "[109 rows x 7 columns]\n"
     ]
    }
   ],
   "source": [
    "# 1. Remove Rows with Non-Numeric Values\n",
    "df_numeric = df.copy()  # Create a copy of the dataframe to preserve the original\n",
    "df_numeric = df_numeric[pd.to_numeric(df_numeric['Rain Fall (mm)'], errors='coerce').notna()]  # Remove rows with non-numeric values\n",
    "\n",
    "# 2. Replace Non-Numeric Values with NaN\n",
    "df_nan = df.copy()  # Create a copy of the dataframe\n",
    "df_nan['Rain Fall (mm)'] = pd.to_numeric(df_nan['Rain Fall (mm)'], errors='coerce')  # Convert non-numeric values to NaN\n",
    "\n",
    "# 3. Replace Non-Numeric Values with Mean\n",
    "df_mean = df.copy()  # Create a copy of the dataframe\n",
    "df_mean['Rain Fall (mm)'] = pd.to_numeric(df_mean['Rain Fall (mm)'], errors='coerce')  # Convert non-numeric values to NaN\n",
    "mean_value = df_mean['Rain Fall (mm)'].mean()  # Calculate the mean\n",
    "df_mean['Rain Fall (mm)'].fillna(mean_value, inplace=True)  # Replace NaN values with the mean\n",
    "\n",
    "# Display the cleaned datasets\n",
    "print(\"After removing rows with non-numeric values:\")\n",
    "print(df_numeric)\n",
    "\n",
    "print(\"\\nAfter replacing non-numeric values with NaN:\")\n",
    "print(df_nan)\n"
   ]
  },
  {
   "cell_type": "code",
   "execution_count": null,
   "id": "d673eba8",
   "metadata": {},
   "outputs": [],
   "source": [
    "\n"
   ]
  },
  {
   "cell_type": "code",
   "execution_count": null,
   "id": "4136fd3b",
   "metadata": {},
   "outputs": [],
   "source": []
  },
  {
   "cell_type": "code",
   "execution_count": 316,
   "id": "cd5ebb9f",
   "metadata": {},
   "outputs": [
    {
     "name": "stdout",
     "output_type": "stream",
     "text": [
      "Correlation Matrix:\n",
      "                Rain Fall (mm)  Fertilizer  Temperatue  Nitrogen (N)  \\\n",
      "Rain Fall (mm)        1.000000    0.880828   -0.968752      0.856416   \n",
      "Fertilizer            0.880828    1.000000   -0.854609      0.908509   \n",
      "Temperatue           -0.968752   -0.854609    1.000000     -0.826631   \n",
      "Nitrogen (N)          0.856416    0.908509   -0.826631      1.000000   \n",
      "Phosphorus (P)        0.752584    0.813378   -0.755258      0.778187   \n",
      "Potassium (K)         0.815538    0.761547   -0.784436      0.800613   \n",
      "Yeild (Q/acre)        0.862682    0.831438   -0.867041      0.878872   \n",
      "\n",
      "                Phosphorus (P)  Potassium (K)  Yeild (Q/acre)  \n",
      "Rain Fall (mm)        0.752584       0.815538        0.862682  \n",
      "Fertilizer            0.813378       0.761547        0.831438  \n",
      "Temperatue           -0.755258      -0.784436       -0.867041  \n",
      "Nitrogen (N)          0.778187       0.800613        0.878872  \n",
      "Phosphorus (P)        1.000000       0.736202        0.800061  \n",
      "Potassium (K)         0.736202       1.000000        0.844361  \n",
      "Yeild (Q/acre)        0.800061       0.844361        1.000000  \n"
     ]
    }
   ],
   "source": [
    "# Convert non-numeric values to NaN\n",
    "df_numeric = df.apply(pd.to_numeric, errors='coerce')\n",
    "\n",
    "# Calculate the correlation matrix\n",
    "correlation_matrix = df_numeric.corr()\n",
    "\n",
    "# Display correlation matrix\n",
    "print(\"Correlation Matrix:\")\n",
    "print(correlation_matrix)"
   ]
  },
  {
   "cell_type": "code",
   "execution_count": null,
   "id": "3d1dcac5",
   "metadata": {},
   "outputs": [],
   "source": []
  },
  {
   "cell_type": "code",
   "execution_count": 320,
   "id": "a64a8558",
   "metadata": {},
   "outputs": [
    {
     "data": {
      "image/png": "[encoded data removed]",
      "text/plain": [
       "<Figure size 1000x800 with 2 Axes>"
      ]
     },
     "metadata": {},
     "output_type": "display_data"
    }
   ],
   "source": [
    "def plot_correlation_matrix(correlation_matrix):\n",
    "    \"\"\"\n",
    "    Plot a heatmap of the correlation matrix.\n",
    "\n",
    "    Parameters:\n",
    "    - correlation_matrix: DataFrame containing the correlation coefficients between variables.\n",
    "    \"\"\"\n",
    "    plt.figure(figsize=(10, 8))\n",
    "    sns.heatmap(correlation_matrix, annot=True, cmap='coolwarm', fmt=\".2f\", linewidths=0.5)\n",
    "    plt.title('Correlation Matrix')\n",
    "    plt.show()\n",
    "\n",
    "# Example usage:\n",
    "plot_correlation_matrix(correlation_matrix)"
   ]
  },
  {
   "cell_type": "code",
   "execution_count": null,
   "id": "3dca55a0",
   "metadata": {},
   "outputs": [],
   "source": []
  }
 ],
 "metadata": {
  "kernelspec": {
   "display_name": "Python 3 (ipykernel)",
   "language": "python",
   "name": "python3"
  },
  "language_info": {
   "codemirror_mode": {
    "name": "ipython",
    "version": 3
   },
   "file_extension": ".py",
   "mimetype": "text/x-python",
   "name": "python",
   "nbconvert_exporter": "python",
   "pygments_lexer": "ipython3",
   "version": "3.11.5"
  }
 },
 "nbformat": 4,
 "nbformat_minor": 5
}
